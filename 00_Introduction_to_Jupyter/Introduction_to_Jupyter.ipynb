{
 "cells": [
  {
   "cell_type": "markdown",
   "metadata": {},
   "source": [
    "# Introduction to JupyterLab and Notebooks | JupyterLab 和 Notebook 简介"
   ]
  },
  {
   "cell_type": "markdown",
   "metadata": {},
   "source": [
    "如果您已经熟悉 Jupyter 的使用方法，请跳过下面的内容，开始第一个练习。\\\n",
    "If you are familiar with Jupyter skip below and head to the first exercise. \n",
    "\n",
    "[//]: # (The below URL has been changed to a China friendly file location, managed by Intel China Team. )\n",
    "<video controls src=\"https://oneapi.idzcn.com/Introduction_to_Jupyter_cn.mp4\" width=\"720\"/>\n",
    "\n",
    "</br>\\\n",
    "[//]: # (This is the original video hosted locally on local server.<video controls src=\"src/Introduction_to_Jupyter.mp4\" width=\"720\"/> )"
   ]
  },
  {
   "cell_type": "markdown",
   "metadata": {},
   "source": [
    "__JupyterLab__ 是一系列被称为“单元(cell)”的盒子。 每个单元均可包含文本(如本文字)或可能在本教程中执行的 C++ 或 Python 代码。在您继续进行操作时，请注意以下几点：\\\n",
    "__JupyterLab__ is a sequence of boxes referred to as \"cells\". Each cell will contain text, like this one, or C++ or Python code that may be executed as part of this tutorial. As you proceed, please note the following:\\\n",
    "   <br />\n",
    "\n",
    "* 活动单元由左侧的(竖向)蓝色条表示。单击一个单元可将其选中。\n",
    "* The active cell is indicated by the blue bar on the left. Click on a cell to select it.\\\n",
    "   <br />\n",
    "\n",
    "* 使用顶部的 __\"run\"__ ▶ 按钮或 __Shift+Enter__，执行选定的单元,从该单元开始。\n",
    "* Use the __\"run\"__ ▶ button at the top or __Shift+Enter__ to execute a selected cell, starting with this one.\n",
    "  * 注：如果误按了 <b>Enter</b> 键，您将进入该单元的编辑模式。要退出编辑模式并继续，请按 <b>Shift+Enter</b>。\n",
    "  * Note: If you mistakenly press just <b>Enter</b>, you will enter the editing mode for the cell. To exit editing mode and continue, press <b>Shift+Enter</b>.\\\n",
    "  <br />\n",
    "\n",
    "\n",
    "\n",
    "[//]: # ( original text here without RED emphasis and style * 除非另有说明，否则本教程中包含代码的单元<b>必须</b>按顺序执行。)\n",
    "\n",
    "* 除非另有说明，否则本教程中包含代码的单元<b><html><span style=\"color:red\">必须</span></html></b>按顺序执行。\n",
    "* Unless stated otherwise, the cells containing code within this tutorial <b><html><span style=\"color:red\">MUST be</span></html></b> executed in sequence.\\\n",
    "  <br />\n",
    " \n",
    "\n",
    "* 您可以随时保存教程，这将保存输出，但不保存状态。 保存的 Jupyter Notebook 将同时保存单元的顺序列号，该序列号可能会使该单元显示为看上去已执行过，而实际上该单元并未在目前这个新会话中执行过。由于状态未被保存，因此当重新打开或 __重启 Jupyter Notebook(restarting a Jupyter Notebook)__ 操作将需要从当前教程的初始位置开始按顺序重新执行所有可执行步骤。\n",
    "* You may save the tutorial at any time, which will save the output, but not the state. Saved Jupyter Notebooks will save sequence numbers which may make a cell appear to have been executed when it has not been executed for the new session. Because state is not saved, re-opening or __restarting a Jupyter Notebook__ will required re-executing all the executable steps, starting in order from the beginning.\\\n",
    "  <br />\n",
    "\n",
    "\n",
    "* 如果出于任何原因需要从头开始重启教程，则可以重置 Jupyter Notebook 的状态并清除所有输出。使用顶部的菜单选择 __Kernel -> \"Restart Kernel and Clear All Outputs\"__ \n",
    "* If for any reason you need to restart the tutorial from the beginning, you may reset the state of the Jupyter Notebook and clear all output. Use the menu at the top to select __Kernel -> \"Restart Kernel and Clear All Outputs\"__ \\\n",
    "  <br />\n",
    "\n",
    "\n",
    "* 包含 Markdown 内容的单元可以被运行并显示执行结果。但是没有执行的提示，并且也不必刻意执行这些 Markdown 单元。\n",
    "* Cells containing Markdown can be executed and will render. However, there is no indication of execution, and it is not necessary to explicitly execute Markdown cells.\\\n",
    "  <br />\n",
    "\n",
    "\n",
    "* 包含可执行代码的单元左侧将带有 \"a [ ]:\"： \n",
    "* Cells containing executable code will have \"a [ ]:\" to the left of the cell:\n",
    "  * __[ ]__ 空白表示该单元尚未执行。\n",
    "  * __[ ]__ blank indicates that the cell has not yet been executed.\\\n",
    "    <br />\n",
    "  * __[\\*]__ 表示该单元当前正在执行。\n",
    "  * __[\\*]__ indicates that the cell is currently executing.\\\n",
    "    <br />\n",
    "   * 单元执行完毕后，每个单元都会在小括号中显示一个数字，以表示单元在序列中的执行顺序。代码的所有输出（例如 print()等）都将在单元下方显示。\n",
    "  * Once a cell is done executing, a number will appear in the small brackets with each cell execution to indicate where in the sequence the cell has been executed. Any output (e.g. print()'s) from the code will appear below the cell.\\\n",
    "    <br />"
   ]
  },
  {
   "cell_type": "markdown",
   "metadata": {},
   "source": [
    "### 在 Jupyter Notebook 中编辑、编译和运行代码 | Code editing, Compiling and Running in Jupyter Notebooks\n",
    "此代码显示了一个简单的 C++ Hello World 项目。阅读并检查代码，代码无需进行任何修改：\\\n",
    "This code shows a simple C++ Hello world. Inspect code, there are no modifications necessary:\n",
    "\n",
    "1. 检查下面的代码单元，然后单击运行 ▶，将代码保存到文件 \\\n",
    "Inspect the code cell below and click run ▶ to save the code to file\n",
    "2. 接下来，在代码下面的__构建并运行__部分中运行 ▶该单元，以编译和执行代码。 \\\n",
    "Next run ▶ the cell in the __Build and Run__ section below the code to compile and execute the code.\n"
   ]
  },
  {
   "cell_type": "code",
   "execution_count": null,
   "metadata": {},
   "outputs": [],
   "source": [
    "%%writefile src/hello.cpp\n",
    "#include <iostream>\n",
    "#define RESET   \"\\033[0m\"\n",
    "#define RED     \"\\033[31m\"    /* Red */\n",
    "#define BLUE    \"\\033[34m\"    /* Blue */\n",
    "\n",
    "int main(){\n",
    "    std::cout << RED << \"Hello World\" << RESET << std::endl;\n",
    "}"
   ]
  },
  {
   "cell_type": "markdown",
   "metadata": {},
   "source": [
    "### 构建并运行 | Build and Run\n",
    "选择下面的单元，然后单击运行 ▶，编译并执行上面的代码： \\\n",
    "Select the cell below and click run ▶ to compile and execute the code above:"
   ]
  },
  {
   "cell_type": "code",
   "execution_count": null,
   "metadata": {},
   "outputs": [],
   "source": [
    "! chmod 755 q; chmod 755 run_hello.sh;if [ -x \"$(command -v qsub)\" ]; then ./q run_hello.sh; else run_hello.sh; fi"
   ]
  },
  {
   "cell_type": "markdown",
   "metadata": {},
   "source": [
    "<html><body><span style=\"color:green\"><h1>开始学习模块 1 | Get started on Module 1</h1></span></body></html>\n",
    "\n",
    "[点击此处 | Click Here](../01_oneAPI_Intro/oneAPI_Intro.ipynb)"
   ]
  },
  {
   "cell_type": "markdown",
   "metadata": {},
   "source": [
    "### 更新您的 Jupyter Notebook | Refresh Your Jupyter Notebooks\n",
    "如果您开始使用 Jupyter Notebook 已有一段时间了，则可能需要对其进行更新，以便兼容新版本的英特尔&reg;  DevCloud for oneAPI 和英特尔&reg;  oneAPI DPC++ 编译器，进而保持最新的内容更新。\\\n",
    "If it's been awhile since you started exploring the notebooks, you will likely need to update them for compatibility with Intel&reg; DevCloud for oneAPI and the Intel&reg; oneAPI DPC++ Compiler to keep up with the latest updates.\n",
    "\n",
    "运行以下单元，以获取最新版本并替换为最新版本的 oneAPI 基础教学模块(oneAPI Essentials)：\\\n",
    "Run the cell below to get latest and replace with latest version of oneAPI Essentials Modules:\n",
    "</br>"
   ]
  },
  {
   "cell_type": "code",
   "execution_count": null,
   "metadata": {},
   "outputs": [],
   "source": [
    "!/data/oneapi_workshop/get_jupyter_notebooks.sh"
   ]
  }
 ],
 "metadata": {
  "kernelspec": {
   "display_name": "Python 3.7 (Intel® oneAPI)",
   "language": "python",
   "name": "c009-intel_distribution_of_python_3_oneapi-beta05-python"
  },
  "language_info": {
   "codemirror_mode": {
    "name": "ipython",
    "version": 3
   },
   "file_extension": ".py",
   "mimetype": "text/x-python",
   "name": "python",
   "nbconvert_exporter": "python",
   "pygments_lexer": "ipython3",
   "version": "3.9.7"
  },
  "toc": {
   "base_numbering": 1,
   "nav_menu": {},
   "number_sections": true,
   "sideBar": true,
   "skip_h1_title": false,
   "title_cell": "Table of Contents",
   "title_sidebar": "Contents",
   "toc_cell": false,
   "toc_position": {
    "height": "calc(100% - 180px)",
    "left": "10px",
    "top": "150px",
    "width": "384.391px"
   },
   "toc_section_display": true,
   "toc_window_display": true
  }
 },
 "nbformat": 4,
 "nbformat_minor": 4
}
