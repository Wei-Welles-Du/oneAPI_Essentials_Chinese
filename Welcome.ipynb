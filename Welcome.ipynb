{
 "cells": [
  {
   "cell_type": "markdown",
   "metadata": {
    "tags": []
   },
   "source": [
    "# oneAPI C++ Essentials Modules | oneAPI C++ 基础模块"
   ]
  },
  {
   "cell_type": "markdown",
   "metadata": {
    "tags": []
   },
   "source": [
    "这些概念互为补充，旨在介绍并强化oneAPI及SYCL编程的概念。\\\n",
    "The concepts build on top of each other introducing and reinforcing the concepts of oneAPI and SYCL Programming.\n",
    "\n",
    "## Module 0 | 模块 0 - [Introduction to Jupyter Notebook (Optional) | Jupyter Notebook简介 (可选模块)](00_Introduction_to_Jupyter/Introduction_to_Jupyter.ipynb)\n",
    "`可选` 本模块介绍了如何使用 Jupyter Notebook，这种交互式笔记本可在所有模块中用于编辑和运行编码练习。如果您已经熟悉 Jupyter Notebook 的使用方法，则可以跳过。\\\n",
    "`Optional` This module explains how to use Jupyter Notebook which is used in all of the modules to edit and run coding excecises, this can be skipped if you are already familiar with using Jupyter Notebooks.\n",
    "\n",
    "\n",
    "## Module 1 | 模块 1 - [Introduction to oneAPI and DPC++/SYCL | oneAPI和DPC++/SYCL简介](01_oneAPI_Intro/oneAPI_Intro.ipynb)\n",
    "本模块向你介绍oneAPI以及oneAPI中的SYCL实现（Data Parallel C++/DPC++ | 数据并行C++/DPC++）。你可以学习基础的SYCL入门程序以及如何使用Data Parallel C++ | 数据并行C++ 针对英特尔硬件编译SYCL代码。\\\n",
    "This module introduces you to oneAPI and oneAPI's implementation of SYCL (Data Parallel C++/DPC++). You will learn about basic SYCL hello world program and how to compile SYCL code for Intel hardware using Data Parallel C++ Compiler.\n",
    "\n",
    "\n",
    "## Module 2 | 模块 2 - [SYCL Program Structure | SYCL程序结构](02_DPCPP_Program_Structure/DPCPP_Program_Structure.ipynb)\n",
    "本模块演示了基本的 __SYCL代码样例剖析__ 以及程序结构。你将学习重要的 __SYCL类__，不同类型的核心。你也将学习 __Buffer Accessor内存模型__ 和使用buffer时的同步操作。\\\n",
    "This module demonstrates basic __SYCL code anatomy__ and program structure. You will learn about important __SYCL classes__, different types of kernels. You will also learn about __Buffer Accessor memory model__ and synchronizations when using buffers.\n",
    "\n",
    "\n",
    "## Module 3 | 模块 3 - [SYCL Unified Shared Memory | SYCL统一共享内存](03_DPCPP_Unified_Shared_Memory/Unified_Shared_Memory.ipynb)\n",
    "本模块演示了在SYCL代码中如何实现不同模式的 __Unified Shared Memory (USM) | 统一共享内存 (USM)__ ，并同时演示了如何解决顺序(in-order)和乱序(out-of-order)任务中的数据依赖。\\\n",
    "This module demonstrates hows to implement different modes of __Unified Shared Memory (USM)__ in SYCL code, as well as demonstrate how to solve for data dependencies for in-order and out-of-order tasks.\n",
    "\n",
    "## Module 4 | 模块 4 - [SYCL Subgroups | SYCL子组](04_DPCPP_Sub_Groups/Sub_Groups.ipynb)\n",
    "本模块演示了SYCL __子组__ 及其的重要性。样例代码也演示了如何实现子组(sub-group)信息的查询，子组洗牌(shuffle)和子组的组算法(group algorithm)。\\\n",
    "This module demonstrates SYCL __Sub-groups__ and why they are important. The code samples demonstrate how to implement a query for sub-group info, sub-group shuffles and sub-group group alogorithms.\n",
    "\n",
    "## Module 5 | 模块 5 - [Demonstration of Intel® Advisor | 英特尔® Advisor演示](05_Intel_Advisor/offload_advisor.ipynb)\n",
    "本模块演示了 __英特尔® Advisor__ 的各个方面。第一个练习使用英特尔® Advisor展示在示例应用中发现的性能卸载的机会，然后使用更多命令行选项获取 Advisor 卸载的结果。第二个练习是 [roofline analysis](05_Intel_Advisor/roofline_analysis.ipynb)， 将举例说明 __roofline analysis__ 分析和用于获取 Advisor 结果的命令行选项。\\\n",
    "This module demonstrates various aspects of __Intel® Advisor__. The first uses Intel® Advisor to show performance offload opportunities found in a sample application, and then additional command-line options for getting offload advisor results. \n",
    "The second, [roofline analysis](05_Intel_Advisor/roofline_analysis.ipynb), gives an example of __roofline analysis__ and command line options for getting advisor results.\n",
    "\n",
    "## Module 6 | 模块 6 - [Intel® Vtune™ Profiler on DevCloud | DevCloud上的英特尔® Vtune™性能分析器](06_Intel_VTune_Profiler/Intel_VTune_Profiler.ipynb)\n",
    "本模块演示了如何 __在通过命令行使用英特尔® Vtune™ Profiler__  采集和分析 gpu_hotspots(GPU热点)。您将学习如何采集性能指标并利用 Jupyter Notebook 内的 HTML 输出并探索结果。该模块可帮助您探索和熟悉相关的概念，不需要镜像任何代码修改。\\\n",
    "This module demonstrates using __Intel® Vtune™ Profiler on the command-line__ to collect and analyze gpu_hotspots. You will learn how to collect performance metrics and explore the results with the HTML output rendered inside of the notebook.  This module meant for exploration and familiarization, and does not require any code modification.\n",
    "\n",
    "## Module 7 | 模块 7 - [Intel® oneAPI DPC++ Library | 英特尔® oneAPI DPC++库](07_DPCPP_Library/oneDPL_Introduction.ipynb)\n",
    "本模块演示了如何使用 __英特尔® oneAPI DPC++ 库(oneDPL)__ 进行异构计算。您将学习如何使用各种 Parallel STL 算法进行异构计算，并了解使用 oneDPL 的伽马校正(gamma-correction)样例代码。\\\n",
    "This module demonstrates using __Intel® oneAPI DPC++ Library (oneDPL)__ for heterogeneous computing. You will learn how to use various Parallel STL algorithms for heterogeneous computing and also look at gamma-correction sample code that uses oneDPL.\n",
    "\n",
    "## Module 8 | 模块 8 - [SYCL Kernel Reductions | SYCL核心规约](08_DPCPP_Reduction/Reductions.ipynb)\n",
    "本模块演示了进行并行化规约(reduction)的方法。您将学习 __规约的组算法(reduction group alogorithm)__ 和 __SYCL中的核心规约__。\\\n",
    "This module demonstrates how reductions can be parallelized. You will learn about __reduction group alogorithm__ and also __kernel reductions in SYCL__.\n",
    "\n",
    "## Module 9 | 模块 9 - [SYCL Buffers and Accessors in depth | SYCL Buffer与Accessor 进阶](09_DPCPP_Buffers_And_Accessors_Indepth/DPCPP_Buffers_accessors.ipynb)\n",
    "本模块演示了创建 __SYCL中Buffer(缓存)__ 的各种方式。您将学习如何使用 __sub-buffers__， buffer属性及何时使用 use_host_ptr, set_final_data 与 set_write_data。您也将学习 accessor, host_accessors 和相关用例。\\\n",
    "This module demonstrates various ways to create __Buffers in SYCL__. You will learn how to use __sub-buffers__, buffer properties and when to use_host_ptr, set_final_data and set_write_data. You will also learn accessors, host_accessors and its usecases.\n",
    "\n",
    "\n",
    "## Module 10 | 模块 10 - [SYCL Task Scheduling and Data Dependences | SYCL任务调度和数据依赖](10_DPCPP_Graphs_Scheduling_Data_management/DPCPP_Task_Scheduling_Data_dependency.ipynb)\n",
    "本模块演示了如何利用 USM 、Buffer 与 accessors 来实现内存管理与控制 __显式(implicit)与隐式(explicit)数据管理__，使用对于图调度(graph scheduling)运行至关重要的不同类型的数据依赖方式 。您也将学习选择 __图调度(Graphs scheduling)中依赖__ 的正确模式。\\\n",
    "\n",
    "This module demonstrates how to utilize USM and Buffers and accessors to apply Memory management and take control over __data movement implicitly and explicitly__, utilize different types of data dependences that are important for ensuring execution of graph scheduling. You will also learn to select the correct modes of __dependences in Graphs scheduling__.\n",
    "\n",
    "\n",
    "## Module 11 | 模块 11 - [Intel® Distribution for GDB on DevCloud | DevCloud上的英特尔®GDB发行版](11_Intel_Distribution_for_GDB/gdb_oneapi.ipynb)\n",
    "本模块演示了如何使用英特尔®GDB发行版对于运行在GPU的核心进行调试。\\\n",
    "This module demonstrates how to use the Intel® Distribution for GDB to debug kernels running on GPUs.\n",
    "\n",
    "\n",
    "## Module 12 | 模块 12 - [SYCL Local Memory and Atomics | SYCL本地内存和原子](12_DPCPP_Local_Memory_And_Atomics/LocalMemory_Atomics.ipynb)\n",
    "本模块演示了如何利用设备的 __共享本地内存(Shared Local Memory)__ 用于在核心计算访问数据时减少延迟。本模块也介绍了 __原子操作(Atomic operations)__ 用于在避免多个工作项(work-items)对于同一目标内存进行更新时产生数据竞争。\\\n",
    "This module demonstrates how to utilize device's __Shared Local Memory__ to reduce latency in accessing data for kernel computation. The module also introduces __Atomic operations__ to avoid data race conditions when multiple work-items are updating the same memory object."
   ]
  },
  {
   "cell_type": "code",
   "execution_count": null,
   "metadata": {},
   "outputs": [],
   "source": []
  }
 ],
 "metadata": {
  "kernelspec": {
   "display_name": "Python 3.8 (Intel® oneAPI)",
   "language": "python",
   "name": "c009-intel_distribution_of_python_3_oneapi-beta05-python"
  },
  "language_info": {
   "codemirror_mode": {
    "name": "ipython",
    "version": 3
   },
   "file_extension": ".py",
   "mimetype": "text/x-python",
   "name": "python",
   "nbconvert_exporter": "python",
   "pygments_lexer": "ipython3",
   "version": "3.9.10"
  },
  "toc": {
   "base_numbering": 1,
   "nav_menu": {},
   "number_sections": true,
   "sideBar": true,
   "skip_h1_title": false,
   "title_cell": "Table of Contents",
   "title_sidebar": "Contents",
   "toc_cell": false,
   "toc_position": {
    "height": "calc(100% - 180px)",
    "left": "10px",
    "top": "150px",
    "width": "384.391px"
   },
   "toc_section_display": true,
   "toc_window_display": true
  }
 },
 "nbformat": 4,
 "nbformat_minor": 4
}
